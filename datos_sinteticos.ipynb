{
 "cells": [
  {
   "cell_type": "code",
   "execution_count": 14,
   "id": "84ba7445",
   "metadata": {},
   "outputs": [
    {
     "data": {
      "image/png": "[encoded data removed]",
      "text/plain": [
       "<Figure size 432x288 with 1 Axes>"
      ]
     },
     "metadata": {
      "needs_background": "light"
     },
     "output_type": "display_data"
    }
   ],
   "source": [
    "import numpy as np\n",
    "import matplotlib.pyplot as plt\n",
    "\n",
    "def generar_datos_aglutinados(puntos_centrales, cantidad_puntos_por_centro, desviacion_estandar):\n",
    "    datos_generados = []\n",
    "    \n",
    "    for centro in puntos_centrales:\n",
    "        x_centro, y_centro = centro\n",
    "        x_datos = np.random.normal(loc=x_centro, scale=desviacion_estandar, size=cantidad_puntos_por_centro)\n",
    "        y_datos = np.random.normal(loc=y_centro, scale=desviacion_estandar, size=cantidad_puntos_por_centro)\n",
    "        \n",
    "        datos_generados.extend(list(zip(x_datos, y_datos)))\n",
    "    \n",
    "    return np.array(datos_generados)\n",
    "\n",
    "# Puntos centrales alrededor de los cuales se aglutinarán los datos (x, y)\n",
    "centros = [(-0.344689, 39.471113),\n",
    "           (-0.368245, 39.462637),\n",
    "           (-0.392036, 39.471913),\n",
    "           (-0.418862, 39.474350),\n",
    "           (-0.395435, 39.486997),\n",
    "           (-0.376135, 39.490932),\n",
    "           (-0.363268, 39.478191),\n",
    "           (-0.455155, 39.485499),\n",
    "           (-0.462177, 39.460833),\n",
    "           (-0.469866, 39.434519),\n",
    "           (-0.424123, 39.429131),\n",
    "           (-0.392984, 39.421243),\n",
    "           (-0.402682, 39.401415),\n",
    "           (-0.413957, 39.365083)]\n",
    "\n",
    "# Número de puntos generados alrededor de cada centro\n",
    "puntos_por_centro = 80\n",
    "\n",
    "# Desviación estándar que controla la dispersión de los datos alrededor de cada centro\n",
    "desviacion_estandar = 0.004\n",
    "\n",
    "# Generar datos sintéticos\n",
    "datos_sinteticos = generar_datos_aglutinados(centros, puntos_por_centro, desviacion_estandar)\n",
    "\n",
    "# Visualizar los datos generados\n",
    "plt.scatter(datos_sinteticos[:, 0], datos_sinteticos[:, 1], marker='o', label='Datos Generados')\n",
    "plt.scatter(*zip(*centros), color='red', marker='x', label='Centros')\n",
    "plt.legend()\n",
    "plt.xlabel('Coordenada X')\n",
    "plt.ylabel('Coordenada Y')\n",
    "plt.title('Generación de Datos Geográficos Sintéticos')\n",
    "plt.show()\n"
   ]
  },
  {
   "cell_type": "code",
   "execution_count": null,
   "id": "a294b6a8",
   "metadata": {},
   "outputs": [],
   "source": []
  },
  {
   "cell_type": "code",
   "execution_count": null,
   "id": "8ad73165",
   "metadata": {},
   "outputs": [],
   "source": [
    "# folium"
   ]
  },
  {
   "cell_type": "code",
   "execution_count": 28,
   "id": "48305707",
   "metadata": {},
   "outputs": [
    {
     "data": {
      "text/plain": [
       "True"
      ]
     },
     "execution_count": 28,
     "metadata": {},
     "output_type": "execute_result"
    }
   ],
   "source": [
    "import folium\n",
    "import numpy as np\n",
    "import webbrowser\n",
    "\n",
    "def generar_datos_aglutinados(puntos_centrales, cantidad_puntos_por_centro, desviacion_estandar):\n",
    "    datos_generados = []\n",
    "    \n",
    "    for centro in puntos_centrales:\n",
    "        x_centro, y_centro = centro\n",
    "        x_datos = np.random.normal(loc=x_centro, scale=desviacion_estandar, size=cantidad_puntos_por_centro)\n",
    "        y_datos = np.random.normal(loc=y_centro, scale=desviacion_estandar, size=cantidad_puntos_por_centro)\n",
    "        \n",
    "        datos_generados.extend(list(zip(x_datos, y_datos)))\n",
    "    \n",
    "    return np.array(datos_generados)\n",
    "\n",
    "# Puntos centrales alrededor de los cuales se aglutinarán los datos (x, y)\n",
    "centros = [(-0.344689, 39.471113),\n",
    "           (-0.368245, 39.462637),\n",
    "           (-0.392036, 39.471913),\n",
    "           (-0.418862, 39.474350),\n",
    "           (-0.395435, 39.486997),\n",
    "           (-0.376135, 39.490932),\n",
    "           (-0.363268, 39.478191),\n",
    "           (-0.455155, 39.485499),\n",
    "           (-0.462177, 39.460833),\n",
    "           (-0.469866, 39.434519),\n",
    "           (-0.424123, 39.429131),\n",
    "           (-0.392984, 39.421243),\n",
    "           (-0.402682, 39.401415),\n",
    "           (-0.413957, 39.365083),\n",
    "           (-0.400421, 39.457003),\n",
    "           (-0.393126, 39.448950),\n",
    "           (-0.372998, 39.450541),\n",
    "           (-0.361689, 39.487215),\n",
    "           (-0.349785, 39.498662),\n",
    "           (-0.362863, 39.509382),\n",
    "           (-0.418340, 39.503732),\n",
    "           (-0.412954, 39.507257),\n",
    "           (-0.416297, 39.510323),\n",
    "           (-0.416706, 39.517860),\n",
    "           (-0.444033, 39.504931),\n",
    "           (-0.464115, 39.516023),\n",
    "           (-0.429866, 39.465482),\n",
    "           (-0.381373, 39.460705),\n",
    "           (-0.389268, 39.494072),\n",
    "           (-0.357954, 39.466449),\n",
    "           (-0.334403, 39.448610),\n",
    "           (-0.333314, 39.466925),\n",
    "           (-0.383004, 39.480264)]\n",
    "\n",
    "# Número de puntos generados alrededor de cada centro\n",
    "puntos_por_centro = 80\n",
    "\n",
    "# Desviación estándar que controla la dispersión de los datos alrededor de cada centro\n",
    "desviacion_estandar = 0.0045\n",
    "\n",
    "# Generar datos sintéticos\n",
    "datos_sinteticos = generar_datos_aglutinados(centros, puntos_por_centro, desviacion_estandar)\n",
    "\n",
    "# Crear un mapa Folium centrado en el primer centro\n",
    "mapa = folium.Map(location=[centros[0][1], centros[0][0]], zoom_start=12)\n",
    "\n",
    "# Agregar líneas al mapa para los datos generados\n",
    "for punto in datos_sinteticos:\n",
    "    punto_inicial = [punto[1], punto[0]]\n",
    "    punto_final = [punto[1] + 0.000001, punto[0]]  # Sumar 0.000005 a la coordenada Y\n",
    "    \n",
    "    folium.PolyLine(locations=[punto_inicial, punto_final], color='blue', weight=5).add_to(mapa)\n",
    "\n",
    "# Agregar marcadores al mapa para los centros\n",
    "for centro in centros:\n",
    "    punto_inicial = [centro[0], centro[1]]\n",
    "    punto_final = [centro[0] + 0.000001, centro[1]]  # Sumar 0.000005 a la coordenada Y\n",
    "    \n",
    "    folium.PolyLine(locations=[punto_inicial, punto_final], color='blue', weight=5).add_to(mapa)\n",
    "\n",
    "# Guardar el mapa en un archivo HTML\n",
    "mapa.save('mapa_geografico_lineas.html')\n",
    "\n",
    "# Abrir el mapa en el navegador por defecto\n",
    "webbrowser.open('mapa_geografico_lineas.html')"
   ]
  },
  {
   "cell_type": "code",
   "execution_count": null,
   "id": "dbcfe0a2",
   "metadata": {},
   "outputs": [],
   "source": []
  },
  {
   "cell_type": "code",
   "execution_count": null,
   "id": "2d48cdbb",
   "metadata": {},
   "outputs": [],
   "source": []
  }
 ],
 "metadata": {
  "kernelspec": {
   "display_name": "Python 3 (ipykernel)",
   "language": "python",
   "name": "python3"
  },
  "language_info": {
   "codemirror_mode": {
    "name": "ipython",
    "version": 3
   },
   "file_extension": ".py",
   "mimetype": "text/x-python",
   "name": "python",
   "nbconvert_exporter": "python",
   "pygments_lexer": "ipython3",
   "version": "3.9.7"
  }
 },
 "nbformat": 4,
 "nbformat_minor": 5
}
